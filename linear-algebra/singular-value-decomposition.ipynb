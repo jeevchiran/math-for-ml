{
 "cells": [
  {
   "attachments": {},
   "cell_type": "markdown",
   "metadata": {},
   "source": [
    "The Singular-Value Decomposition, or SVD for short, is a matrix decomposition method for reducing a matrix to its constituent parts in order to make certain subsequent matrix calculations simpler.\n",
    "$$ A = U. \\sum . V^T $$\n",
    "A is the real m × n matrix that we wish to decompose, U is an m × m matrix, $\\sum$ represented by the uppercase Greek letter sigma) is an m × n diagonal matrix, and $V\n",
    "^T$ is the V transpose of an n × n matrix where T is a superscript.\n"
   ]
  },
  {
   "attachments": {},
   "cell_type": "markdown",
   "metadata": {},
   "source": [
    "The diagonal values in $\\sum$ matrix are called singular values of the original matrix A. <br>\n",
    "The columns of U matrix are called left-singular vectors of A, and the columns of V are called right-singular vectors of A."
   ]
  },
  {
   "cell_type": "code",
   "execution_count": 19,
   "metadata": {},
   "outputs": [
    {
     "name": "stdout",
     "output_type": "stream",
     "text": [
      "[[1 2]\n",
      " [3 4]\n",
      " [5 6]]\n",
      "[[-0.2298477   0.88346102  0.40824829]\n",
      " [-0.52474482  0.24078249 -0.81649658]\n",
      " [-0.81964194 -0.40189603  0.40824829]]\n",
      "[9.52551809 0.51430058]\n",
      "[[-0.61962948 -0.78489445]\n",
      " [-0.78489445  0.61962948]]\n"
     ]
    }
   ],
   "source": [
    "import numpy as np\n",
    "\n",
    "#  define a matrix\n",
    "A = np.array([\n",
    "[1, 2],\n",
    "[3, 4],\n",
    "[5, 6]])\n",
    "print(A)\n",
    "# factorize\n",
    "U, s, VT = np.linalg.svd(A)\n",
    "print(U)\n",
    "print(s)\n",
    "print(VT)"
   ]
  },
  {
   "attachments": {},
   "cell_type": "markdown",
   "metadata": {},
   "source": [
    "# Reconstruct matrix <br>\n",
    "\n",
    "The original matrix can be reconstructed from the U, Σ, and $V^T$ elements. The U, s, and V elements returned from the svd() cannot be multiplied directly. The s vector must be converted into a diagonal matrix using the diag() function <br>\n",
    "\n",
    "After creating the square Σ diagonal matrix, the sizes of the matrices are relative to the original m × n matrix that we are decomposing, as follows:\n",
    "$$ U(m × m) · Σ(n × n) · V^T(n × n)  $$\n",
    "\n",
    "\n",
    "Where, in fact, we require:\n",
    "$$U(m × m) · Σ(m × n) · V^T(n × n) $$\n",
    "\n",
    "We can achieve this by creating a new Σ matrix of all zero values that is m × n (e.g. more\n",
    "rows) and populate the first n × n part of the matrix with the square diagonal matrix calculated\n",
    "via diag()."
   ]
  },
  {
   "cell_type": "code",
   "execution_count": 20,
   "metadata": {},
   "outputs": [
    {
     "name": "stdout",
     "output_type": "stream",
     "text": [
      "[[1 2]\n",
      " [3 4]\n",
      " [5 6]]\n",
      "[[1. 2.]\n",
      " [3. 4.]\n",
      " [5. 6.]]\n"
     ]
    }
   ],
   "source": [
    " # define matrix\n",
    "A = np.array([\n",
    "[1, 2],\n",
    "[3, 4],\n",
    "[5, 6]])\n",
    "print(A)\n",
    "# factorize\n",
    "U, s, VT = np.linalg.svd(A)\n",
    "# create m x n Sigma matrix\n",
    "Sigma = np.zeros((A.shape[0], A.shape[1])) # (mxn)\n",
    "# populate Sigma with n x n diagonal matrix\n",
    "Sigma[:A.shape[1], :A.shape[1]] = np.diag(s)\n",
    "# reconstruct matrix\n",
    "B = U.dot(Sigma.dot(VT))\n",
    "print(B)"
   ]
  },
  {
   "attachments": {},
   "cell_type": "markdown",
   "metadata": {},
   "source": [
    "# Pseudoinverse \n",
    "\n",
    "Matrix inversion is not defined for matrices that are not square. [...] When A has more columns than rows, then solving a linear equation using the pseudoinverse provides one of the many possible solutions. <br>\n",
    "\n",
    "The pesudoinverse is denoted as $A^+$ <br>\n",
    "\n",
    "$$ A^+ = V.D^+.U^T $$ \n",
    "\n",
    "$D^+$ is the pseudoinverse of diagonal matrix $\\sum$ and $U^T$. <br>\n",
    "\n",
    "U and V are from the SVD operation.\n",
    "$$ A = U.\\sum.V^T$$ \n",
    "The $D^+$ can be calculate by creating a diagonal matrix from Σ, calculating the reciprocal of each non-zero element in Σ, and taking the transpose if the original matrix was rectangular <br>\n",
    "\n",
    "$$\n",
    "\\sum = \\begin{pmatrix}\n",
    "s_{1,1} & 0 & 0\\\\\n",
    "0 & s_{2,2} & 0\\\\\n",
    "0 & 0 & s_{3,3}\\\\\n",
    "\\end{pmatrix}$$\n",
    "\n",
    "$$ D^+ = \\begin{pmatrix}\n",
    "\\frac{1}{s_{1,1}} & 0 & 0\\\\\n",
    "0 & \\frac{1}{s_{2,2}} & 0\\\\\n",
    "0 & 0 & \\frac{1}{s_{3,3}}\\\\\n",
    "\\end{pmatrix}$$ "
   ]
  },
  {
   "cell_type": "code",
   "execution_count": 21,
   "metadata": {},
   "outputs": [
    {
     "name": "stdout",
     "output_type": "stream",
     "text": [
      "[[0.1 0.2]\n",
      " [0.3 0.4]\n",
      " [0.5 0.6]\n",
      " [0.7 0.8]]\n",
      "[[-1.00000000e+01 -5.00000000e+00  1.28757642e-14  5.00000000e+00]\n",
      " [ 8.50000000e+00  4.50000000e+00  5.00000000e-01 -3.50000000e+00]]\n"
     ]
    }
   ],
   "source": [
    "# define matrix\n",
    "A = np.array([\n",
    "[0.1, 0.2],\n",
    "[0.3, 0.4],\n",
    "[0.5, 0.6],\n",
    "[0.7, 0.8]])\n",
    "print(A)\n",
    "# calculate pseudoinverse\n",
    "B = np.linalg.pinv(A)\n",
    "print(B)"
   ]
  },
  {
   "cell_type": "code",
   "execution_count": 22,
   "metadata": {},
   "outputs": [
    {
     "name": "stdout",
     "output_type": "stream",
     "text": [
      "[ 0.70081527 15.95333376]\n",
      "[[ 0.70081527  0.          0.          0.        ]\n",
      " [ 0.         15.95333376  0.          0.        ]]\n",
      "[[-1.00000000e+01 -5.00000000e+00  1.28565458e-14  5.00000000e+00]\n",
      " [ 8.50000000e+00  4.50000000e+00  5.00000000e-01 -3.50000000e+00]]\n"
     ]
    }
   ],
   "source": [
    "A = np.array([\n",
    "[0.1, 0.2],\n",
    "[0.3, 0.4],\n",
    "[0.5, 0.6],\n",
    "[0.7, 0.8]])\n",
    "U, s, VT = np.linalg.svd(A)\n",
    "d = 1.0/s\n",
    "print(d)\n",
    "D_pinv = np.zeros((A.shape[1],A.shape[0]))\n",
    "D_pinv[:A.shape[1],:A.shape[1]] = np.diag(d)\n",
    "print(D_pinv)\n",
    "A_pinv = VT.T.dot(D_pinv).dot(U.T)\n",
    "\n",
    "print(A_pinv)"
   ]
  },
  {
   "attachments": {},
   "cell_type": "markdown",
   "metadata": {},
   "source": [
    "# Dimensionality reduction\n",
    "\n",
    "Data with a large number of features, such as more features (columns) than observations (rows) may be reduced to a smaller subset of features that are most relevant to the prediction problem. The result is a matrix with a lower rank that is said to approximate the original matrix. To do this we can perform an SVD\n",
    "operation on the original data and select the top k largest singular values in Σ. These columns can be selected from Σ and the rows selected from $V^T$\n",
    "\n",
    "\n",
    "$$ B = U. \\Sigma_{k} . V_{k}^T $$ \n",
    "\n",
    "An Approx B of the original vector A can be reconstructed. <br>\n",
    "Tn practice, we can retain and work with a descriptive subset of the data called T. <br>\n",
    "This is a dense summary of the matrix or a projection.\n",
    "$$ T = U · Σ_{k} $$\n",
    "Further, this transform can be calculated and applied to the original matrix A as well as\n",
    "other similar matrices.\n",
    "$$ T = A · V_{k} $$\n"
   ]
  },
  {
   "cell_type": "code",
   "execution_count": 23,
   "metadata": {},
   "outputs": [
    {
     "name": "stdout",
     "output_type": "stream",
     "text": [
      "[[ 1  2  3  4  5  6  7  8  9 10]\n",
      " [11 12 13 14 15 16 17 18 19 20]\n",
      " [21 22 23 24 25 26 27 28 29 30]]\n",
      "[[ 1.  2.  3.  4.  5.  6.  7.  8.  9. 10.]\n",
      " [11. 12. 13. 14. 15. 16. 17. 18. 19. 20.]\n",
      " [21. 22. 23. 24. 25. 26. 27. 28. 29. 30.]]\n",
      "[[-18.52157747   6.47697214]\n",
      " [-49.81310011   1.91182038]\n",
      " [-81.10462276  -2.65333138]]\n",
      "[[-18.52157747   6.47697214]\n",
      " [-49.81310011   1.91182038]\n",
      " [-81.10462276  -2.65333138]]\n"
     ]
    }
   ],
   "source": [
    "#  define matrix\n",
    "A = np.array([\n",
    "[1,2,3,4,5,6,7,8,9,10],\n",
    "[11,12,13,14,15,16,17,18,19,20],\n",
    "[21,22,23,24,25,26,27,28,29,30]])\n",
    "print(A)\n",
    "# factorize\n",
    "U, s, VT = np.linalg.svd(A)\n",
    "# create m x n Sigma matrix\n",
    "Sigma = np.zeros((A.shape[0], A.shape[1]))\n",
    "# populate Sigma with n x n diagonal matrix\n",
    "Sigma[:A.shape[0], :A.shape[0]] = np.diag(s)\n",
    "# select\n",
    "n_elements = 2\n",
    "Sigma = Sigma[:, :n_elements]\n",
    "VT = VT[:n_elements, :]\n",
    "# reconstruct\n",
    "B = U.dot(Sigma.dot(VT))\n",
    "print(B)\n",
    "T = U.dot(Sigma)\n",
    "print(T)\n",
    "T = A.dot(VT.T)\n",
    "print(T)"
   ]
  },
  {
   "attachments": {},
   "cell_type": "markdown",
   "metadata": {},
   "source": [
    "scikit-learn provides a TruncatedSVD class that implements this capability directly. The TruncatedSVD class can be created in which you must specify the number of desirable features or components to select, e.g. 2. Once created, you can fit the transform (e.g. calculate $V^T_{k}$) by calling the fit() function, then apply it to the original matrix by calling the transform() function. The result is the transform of A called T above. The example below demonstrates the TruncatedSVD class.\n"
   ]
  },
  {
   "cell_type": "code",
   "execution_count": 24,
   "metadata": {},
   "outputs": [
    {
     "name": "stdout",
     "output_type": "stream",
     "text": [
      "[[ 1  2  3  4  5  6  7  8  9 10]\n",
      " [11 12 13 14 15 16 17 18 19 20]\n",
      " [21 22 23 24 25 26 27 28 29 30]]\n",
      "[[18.52157747  6.47697214]\n",
      " [49.81310011  1.91182038]\n",
      " [81.10462276 -2.65333138]]\n"
     ]
    }
   ],
   "source": [
    "from sklearn.decomposition import TruncatedSVD\n",
    "# define matrix\n",
    "A = np.array([\n",
    "[1,2,3,4,5,6,7,8,9,10],\n",
    "[11,12,13,14,15,16,17,18,19,20],\n",
    "[21,22,23,24,25,26,27,28,29,30]])\n",
    "print(A)\n",
    "# create transform\n",
    "svd = TruncatedSVD(n_components=2)\n",
    "# fit transform\n",
    "svd.fit(A)\n",
    "# apply transform\n",
    "result = svd.transform(A)\n",
    "print(result)"
   ]
  }
 ],
 "metadata": {
  "kernelspec": {
   "display_name": "Python 3",
   "language": "python",
   "name": "python3"
  },
  "language_info": {
   "codemirror_mode": {
    "name": "ipython",
    "version": 3
   },
   "file_extension": ".py",
   "mimetype": "text/x-python",
   "name": "python",
   "nbconvert_exporter": "python",
   "pygments_lexer": "ipython3",
   "version": "3.10.4"
  },
  "orig_nbformat": 4,
  "vscode": {
   "interpreter": {
    "hash": "34318cfe4829af221e5477cadc97d20e2fe9ea9ad002c04600364c092214ecf0"
   }
  }
 },
 "nbformat": 4,
 "nbformat_minor": 2
}
