{
 "cells": [
  {
   "attachments": {},
   "cell_type": "markdown",
   "metadata": {},
   "source": [
    "# LU decomposition \n",
    "for square matrices and decomposes a matrix into L and U components.\n",
    "\\begin{gather*}\n",
    "A=L.U\n",
    "\\end{gather*}\n",
    "L is the lower triangular matrix. <br>\n",
    "U is the upper triangular matrix."
   ]
  },
  {
   "attachments": {},
   "cell_type": "markdown",
   "metadata": {},
   "source": [
    "The LU decomposition is found using an iterative numerical process and can fail for those\n",
    "matrices that cannot be decomposed or decomposed easily. A variation of this decomposition\n",
    "that is numerically more stable to solve in practice is called the LUP decomposition, or the LU\n",
    "decomposition with partial pivoting\n",
    "\\begin{gather*}\n",
    "A=P.L.U\n",
    "\\end{gather*}\n",
    "\n",
    "The rows of the parent matrix are re-ordered to simplify the decomposition process and the\n",
    "additional P matrix specifies a way to permute the result or return the result to the original\n",
    "order. There are also other variations of the LU. The LU decomposition is often used to simplify\n",
    "the solving of systems of linear equations, such as finding the coefficients in a linear regression,\n",
    "as well as in calculating the determinant and inverse of a matrix"
   ]
  },
  {
   "cell_type": "code",
   "execution_count": 5,
   "metadata": {},
   "outputs": [
    {
     "name": "stdout",
     "output_type": "stream",
     "text": [
      "[[ 2 -1 -2]\n",
      " [-4  6  3]\n",
      " [-4 -2  8]]\n",
      "[[0. 0. 1.]\n",
      " [1. 0. 0.]\n",
      " [0. 1. 0.]]\n",
      "[[ 1.    0.    0.  ]\n",
      " [ 1.    1.    0.  ]\n",
      " [-0.5  -0.25  1.  ]]\n",
      "[[-4.    6.    3.  ]\n",
      " [ 0.   -8.    5.  ]\n",
      " [ 0.    0.    0.75]]\n",
      "[[ 2. -1. -2.]\n",
      " [-4.  6.  3.]\n",
      " [-4. -2.  8.]]\n"
     ]
    }
   ],
   "source": [
    "import numpy as np\n",
    "from scipy.linalg import lu\n",
    "\n",
    "A = np.array([[2, -1, -2],\n",
    "       [-4, 6, 3],\n",
    "       [-4, -2, 8]])\n",
    "\n",
    "print(A)\n",
    "#decompose \n",
    "P, L, U = lu(A)\n",
    "print(P)\n",
    "print(L)\n",
    "print(U)\n",
    "# reconstruct\n",
    "B = P.dot(L).dot(U)\n",
    "print(B)\n"
   ]
  },
  {
   "attachments": {},
   "cell_type": "markdown",
   "metadata": {},
   "source": [
    "python implementation of LU decomposition using doolittle algorithm <br>\n",
    "Terms of U matrix are given by:\n",
    "\n",
    "\n",
    "$$ i>0 \\Rightarrow u_{ij} = a_{ij} - \\sum_{k=1}^{i-1} u_{kj} l_{ik} $$\n",
    "To ensure that the algorithm is numerically stable when , a pivoting matrix P is used to re-order so that the largest element of each column of A gets shifted to the diagonal of A <br>\n",
    "\n",
    "Terms of L matrix are given by:\n",
    "\n",
    "$$ j>0 \\Rightarrow l_{ij} = \\frac{1}{u_{jj}} (a_{ij} - \\sum_{k=1}^{j-1} u_{kj} l_{ik})  $$"
   ]
  },
  {
   "cell_type": "code",
   "execution_count": 8,
   "metadata": {},
   "outputs": [
    {
     "name": "stdout",
     "output_type": "stream",
     "text": [
      "parent matrix\n",
      "[[ 2 -1 -2]\n",
      " [-4  6  3]\n",
      " [-4 -2  8]]\n",
      "[[ 2. -1. -2.]\n",
      " [-4.  6.  3.]\n",
      " [-4. -2.  8.]]\n"
     ]
    }
   ],
   "source": [
    "MAX = 100\n",
    " \n",
    "def pivot_matrix(M):\n",
    "    \"\"\"Returns the pivoting matrix for M, used in Doolittle's method.\"\"\"\n",
    "    m = len(M)\n",
    "\n",
    "    # Create an identity matrix, with floating point values                                                                                                                                                                                            \n",
    "    id_mat = [[float(i ==j) for i in range(m)] for j in range(m)]\n",
    "\n",
    "    # Rearrange the identity matrix such that the largest element of                                                                                                                                                                                   \n",
    "    # each column of M is placed on the diagonal of of M                                                                                                                                                                                               \n",
    "    for j in range(m):\n",
    "        row = max(range(j, m), key=lambda i: abs(M[i][j]))\n",
    "        if j != row:\n",
    "            # Swap the rows                                                                                                                                                                                                                            \n",
    "            id_mat[j], id_mat[row] = id_mat[row], id_mat[j]\n",
    "\n",
    "    return id_mat\n",
    "\n",
    "def lu_decomposition(A):\n",
    "    \"\"\"Performs an LU Decomposition of A (which must be square)                                                                                                                                                                                        \n",
    "    into PA = LU. The function returns P, L and U.\"\"\"\n",
    "    n = len(A)\n",
    "\n",
    "    # Create zero matrices for L and U                                                                                                                                                                                                                 \n",
    "    L = np.zeros((n,n))\n",
    "    U = np.zeros((n,n))\n",
    "\n",
    "    # Create the pivot matrix P and the multipled matrix PA                                                                                                                                                                                            \n",
    "    P = pivot_matrix(A)\n",
    "    PA = np.dot(P, A)\n",
    "\n",
    "    # Perform the LU Decomposition                                                                                                                                                                                                                     \n",
    "    for j in range(n):\n",
    "        # All diagonal entries of L are set to unity                                                                                                                                                                                                   \n",
    "        L[j][j] = 1.0\n",
    "\n",
    "        # LaTeX: u_{ij} = a_{ij} - \\sum_{k=1}^{i-1} u_{kj} l_{ik}                                                                                                                                                                                      \n",
    "        for i in range(j+1):\n",
    "            s1 = sum(U[k][j] * L[i][k] for k in range(i))\n",
    "            U[i][j] = PA[i][j] - s1\n",
    "\n",
    "        # LaTeX: l_{ij} = \\frac{1}{u_{jj}} (a_{ij} - \\sum_{k=1}^{j-1} u_{kj} l_{ik} )                                                                                                                                                                  \n",
    "        for i in range(j, n):\n",
    "            s2 = sum(U[k][j] * L[i][k] for k in range(j))\n",
    "            L[i][j] = (PA[i][j] - s2) / U[j][j]\n",
    "\n",
    "    return (P, L, U)\n",
    " \n",
    "mat = [[2, -1, -2],\n",
    "       [-4, 6, 3],\n",
    "       [-4, -2, 8]]\n",
    "print(\"parent matrix\")\n",
    "print(np.array(mat))\n",
    "\n",
    "# print(\"pivot matrix\")\n",
    "# P = np.array([[ 0., 1., 0.],\n",
    "# [ 0., 0., 1.],\n",
    "# [ 1., 0., 0.]])\n",
    "P,L,U =lu_decomposition(mat)\n",
    "\n",
    "A = np.dot(P,np.dot(L,U))\n",
    "print(A)"
   ]
  },
  {
   "attachments": {},
   "cell_type": "markdown",
   "metadata": {},
   "source": [
    "# QR decomposition \n",
    "QR decomposition is done on M x N matrices (not limited to square matrices) <br>\n",
    "\n",
    "$$ A = Q . R $$\n",
    "\n",
    "the QR decomposition is often used to solve systems of linear equations, although is not limited to square matrices <br>\n"
   ]
  },
  {
   "cell_type": "code",
   "execution_count": 1,
   "metadata": {},
   "outputs": [
    {
     "name": "stdout",
     "output_type": "stream",
     "text": [
      "[[1 2]\n",
      " [3 4]\n",
      " [5 6]]\n",
      "[[-0.16903085  0.89708523  0.40824829]\n",
      " [-0.50709255  0.27602622 -0.81649658]\n",
      " [-0.84515425 -0.34503278  0.40824829]]\n",
      "[[-5.91607978 -7.43735744]\n",
      " [ 0.          0.82807867]\n",
      " [ 0.          0.        ]]\n",
      "[[1. 2.]\n",
      " [3. 4.]\n",
      " [5. 6.]]\n"
     ]
    }
   ],
   "source": [
    "#  QR decomposition\n",
    "from numpy import array\n",
    "from numpy.linalg import qr\n",
    "# define rectangular matrix\n",
    "A = array([\n",
    "[1, 2],\n",
    "[3, 4],\n",
    "[5, 6]])\n",
    "print(A)\n",
    "# factorize\n",
    "Q, R = qr(A, 'complete')\n",
    "print(Q)\n",
    "print(R)\n",
    "# reconstruct\n",
    "B = Q.dot(R)\n",
    "print(B)\n"
   ]
  },
  {
   "attachments": {},
   "cell_type": "markdown",
   "metadata": {},
   "source": [
    "# Cholesky Decomposition \n",
    "\n",
    "The Cholesky decomposition is for square symmetric matrices where all eigenvalues are greater than zero, so-called positive definite matrices.<br>\n",
    "$$ A = L.L^T $$\n",
    "\n",
    "L is the lower triangular matrix and $ L^T $\n",
    "is the transpose of L. <br>\n",
    "\n",
    "The decompose can also be written as the product of the upper triangular matrix, for example:\n",
    "$$ A = U^T.U $$\n",
    "Where U is the upper triangular matrix. The Cholesky decomposition is used for solving linear least squares for linear regression, as well as simulation and optimization methods. <br> \n",
    "When decomposing symmetric matrices, the Cholesky decomposition is nearly twice as efficient as the LU decomposition and should be preferred in these cases"
   ]
  },
  {
   "cell_type": "code",
   "execution_count": 2,
   "metadata": {},
   "outputs": [
    {
     "name": "stdout",
     "output_type": "stream",
     "text": [
      "[[2 1 1]\n",
      " [1 2 1]\n",
      " [1 1 2]]\n",
      "[[1.41421356 0.         0.        ]\n",
      " [0.70710678 1.22474487 0.        ]\n",
      " [0.70710678 0.40824829 1.15470054]]\n",
      "[[2. 1. 1.]\n",
      " [1. 2. 1.]\n",
      " [1. 1. 2.]]\n"
     ]
    }
   ],
   "source": [
    "#  Cholesky decomposition\n",
    "from numpy import array\n",
    "from numpy.linalg import cholesky\n",
    "# define symmetrical matrix\n",
    "A = array([\n",
    "[2, 1, 1],\n",
    "[1, 2, 1],\n",
    "[1, 1, 2]])\n",
    "print(A)\n",
    "# factorize\n",
    "L = cholesky(A)\n",
    "print(L)\n",
    "# reconstruct\n",
    "B = L.dot(L.T)\n",
    "print(B)"
   ]
  },
  {
   "attachments": {},
   "cell_type": "markdown",
   "metadata": {},
   "source": [
    "python implementation of cholesky <br>\n",
    "\n",
    "$$ l_{kk} = \\sqrt {a_{kk} - \\sum\\limits _{k-1}^{j=1}{l^2_{kj}} }  $$ \n",
    "$$ l_{ik} = \\frac{1}{l_{kk}} (a_{ik} - \\sum\\limits _{k-1}^{j=1}{l_{ij}l_{kj}}), i>k $$\n",
    "\n"
   ]
  },
  {
   "cell_type": "markdown",
   "metadata": {},
   "source": []
  },
  {
   "cell_type": "code",
   "execution_count": 3,
   "metadata": {},
   "outputs": [
    {
     "name": "stdout",
     "output_type": "stream",
     "text": [
      "A:\n",
      "[[2, 1, 1], [1, 2, 1], [1, 1, 2]]\n",
      "L:\n",
      "[[1.4142135623730951, 0.0, 0.0],\n",
      " [0.7071067811865475, 1.224744871391589, 0.0],\n",
      " [0.7071067811865475, 0.4082482904638632, 1.1547005383792515]]\n"
     ]
    }
   ],
   "source": [
    "\n",
    "from math import sqrt\n",
    "from pprint import pprint\n",
    "\n",
    "def cholesky(A):\n",
    "    \"\"\"Performs a Cholesky decomposition of A, which must \n",
    "    be a symmetric and positive definite matrix. The function\n",
    "    returns the lower variant triangular matrix, L.\"\"\"\n",
    "    n = len(A)\n",
    "\n",
    "    # Create zero matrix for L\n",
    "    L = [[0.0] * n for i in range(n)]\n",
    "\n",
    "    # Perform the Cholesky decomposition\n",
    "    for i in range(n):\n",
    "        for k in range(i+1):\n",
    "            tmp_sum = sum(L[i][j] * L[k][j] for j in range(k))\n",
    "            \n",
    "            if (i == k): # Diagonal elements\n",
    "                # LaTeX: l_{kk} = \\sqrt{ a_{kk} - \\sum^{k-1}_{j=1} l^2_{kj}}\n",
    "                L[i][k] = sqrt(A[i][i] - tmp_sum)\n",
    "            else:\n",
    "                # LaTeX: l_{ik} = \\frac{1}{l_{kk}} \\left( a_{ik} - \\sum^{k-1}_{j=1} l_{ij} l_{kj} \\right)\n",
    "                L[i][k] = (1.0 / L[k][k] * (A[i][k] - tmp_sum))\n",
    "    return L\n",
    " \n",
    "A = [[2, 1, 1],\n",
    "[1, 2, 1],\n",
    "[1, 1, 2]]\n",
    "L = cholesky(A)\n",
    "\n",
    "print (\"A:\")\n",
    "pprint(A)\n",
    "\n",
    "print (\"L:\")\n",
    "pprint(L)"
   ]
  }
 ],
 "metadata": {
  "kernelspec": {
   "display_name": "Python 3",
   "language": "python",
   "name": "python3"
  },
  "language_info": {
   "codemirror_mode": {
    "name": "ipython",
    "version": 3
   },
   "file_extension": ".py",
   "mimetype": "text/x-python",
   "name": "python",
   "nbconvert_exporter": "python",
   "pygments_lexer": "ipython3",
   "version": "3.10.4 (tags/v3.10.4:9d38120, Mar 23 2022, 23:13:41) [MSC v.1929 64 bit (AMD64)]"
  },
  "orig_nbformat": 4,
  "vscode": {
   "interpreter": {
    "hash": "34318cfe4829af221e5477cadc97d20e2fe9ea9ad002c04600364c092214ecf0"
   }
  }
 },
 "nbformat": 4,
 "nbformat_minor": 2
}
