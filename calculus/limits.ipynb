{
 "cells": [
  {
   "cell_type": "code",
   "execution_count": 6,
   "metadata": {},
   "outputs": [
    {
     "name": "stdout",
     "output_type": "stream",
     "text": [
      "Limit of\n",
      "  _______\n",
      "╲╱ x + 1 \n",
      "at x=-1 is 0\n",
      "Limit of\n",
      "\n",
      "\n",
      " 2    ⎛1⎞\n",
      "x ⋅sin⎜─⎟\n",
      "      ⎝x⎠\n",
      "at x=0 is 0\n"
     ]
    }
   ],
   "source": [
    "import sympy\n",
    "from sympy.abc import x\n",
    "expression = sympy.sqrt(x+1)\n",
    "result = sympy.limit(expression, x, -1)\n",
    "print(\"Limit of\")\n",
    "sympy.pprint(expression)\n",
    "print('at x=-1 is', result)\n",
    "\n",
    "expression = x**2 * sympy.sin(1/x)\n",
    "result = sympy.limit(expression, x, 0)\n",
    "print(\"Limit of\\n\")\n",
    "sympy.pprint(expression)\n",
    "print(\"at x=0 is\", result)\n",
    "\n"
   ]
  }
 ],
 "metadata": {
  "kernelspec": {
   "display_name": "Python 3",
   "language": "python",
   "name": "python3"
  },
  "language_info": {
   "codemirror_mode": {
    "name": "ipython",
    "version": 3
   },
   "file_extension": ".py",
   "mimetype": "text/x-python",
   "name": "python",
   "nbconvert_exporter": "python",
   "pygments_lexer": "ipython3",
   "version": "3.10.4 (tags/v3.10.4:9d38120, Mar 23 2022, 23:13:41) [MSC v.1929 64 bit (AMD64)]"
  },
  "orig_nbformat": 4,
  "vscode": {
   "interpreter": {
    "hash": "34318cfe4829af221e5477cadc97d20e2fe9ea9ad002c04600364c092214ecf0"
   }
  }
 },
 "nbformat": 4,
 "nbformat_minor": 2
}
